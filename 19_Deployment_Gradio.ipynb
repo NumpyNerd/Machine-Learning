{
  "nbformat": 4,
  "nbformat_minor": 0,
  "metadata": {
    "colab": {
      "provenance": [],
      "authorship_tag": "ABX9TyPizPs1DCJzTUFUW8QGa9S1"
    },
    "kernelspec": {
      "name": "python3",
      "display_name": "Python 3"
    },
    "language_info": {
      "name": "python"
    }
  },
  "cells": [
    {
      "cell_type": "code",
      "execution_count": 1,
      "metadata": {
        "colab": {
          "base_uri": "https://localhost:8080/"
        },
        "id": "W4pbAjlJt6HV",
        "outputId": "e476917e-2249-40d1-df4e-9e2ebfe678f7"
      },
      "outputs": [
        {
          "output_type": "stream",
          "name": "stdout",
          "text": [
            "Collecting gradio\n",
            "  Downloading gradio-4.42.0-py3-none-any.whl.metadata (15 kB)\n",
            "Collecting aiofiles<24.0,>=22.0 (from gradio)\n",
            "  Downloading aiofiles-23.2.1-py3-none-any.whl.metadata (9.7 kB)\n",
            "Requirement already satisfied: anyio<5.0,>=3.0 in /usr/local/lib/python3.10/dist-packages (from gradio) (3.7.1)\n",
            "Collecting fastapi (from gradio)\n",
            "  Downloading fastapi-0.112.1-py3-none-any.whl.metadata (27 kB)\n",
            "Collecting ffmpy (from gradio)\n",
            "  Downloading ffmpy-0.4.0-py3-none-any.whl.metadata (2.9 kB)\n",
            "Collecting gradio-client==1.3.0 (from gradio)\n",
            "  Downloading gradio_client-1.3.0-py3-none-any.whl.metadata (7.1 kB)\n",
            "Collecting httpx>=0.24.1 (from gradio)\n",
            "  Downloading httpx-0.27.0-py3-none-any.whl.metadata (7.2 kB)\n",
            "Requirement already satisfied: huggingface-hub>=0.19.3 in /usr/local/lib/python3.10/dist-packages (from gradio) (0.23.5)\n",
            "Requirement already satisfied: importlib-resources<7.0,>=1.3 in /usr/local/lib/python3.10/dist-packages (from gradio) (6.4.2)\n",
            "Requirement already satisfied: jinja2<4.0 in /usr/local/lib/python3.10/dist-packages (from gradio) (3.1.4)\n",
            "Requirement already satisfied: markupsafe~=2.0 in /usr/local/lib/python3.10/dist-packages (from gradio) (2.1.5)\n",
            "Requirement already satisfied: matplotlib~=3.0 in /usr/local/lib/python3.10/dist-packages (from gradio) (3.7.1)\n",
            "Requirement already satisfied: numpy<3.0,>=1.0 in /usr/local/lib/python3.10/dist-packages (from gradio) (1.26.4)\n",
            "Collecting orjson~=3.0 (from gradio)\n",
            "  Downloading orjson-3.10.7-cp310-cp310-manylinux_2_17_x86_64.manylinux2014_x86_64.whl.metadata (50 kB)\n",
            "\u001b[2K     \u001b[90m━━━━━━━━━━━━━━━━━━━━━━━━━━━━━━━━━━━━━━━━\u001b[0m \u001b[32m50.4/50.4 kB\u001b[0m \u001b[31m3.4 MB/s\u001b[0m eta \u001b[36m0:00:00\u001b[0m\n",
            "\u001b[?25hRequirement already satisfied: packaging in /usr/local/lib/python3.10/dist-packages (from gradio) (24.1)\n",
            "Requirement already satisfied: pandas<3.0,>=1.0 in /usr/local/lib/python3.10/dist-packages (from gradio) (2.1.4)\n",
            "Requirement already satisfied: pillow<11.0,>=8.0 in /usr/local/lib/python3.10/dist-packages (from gradio) (9.4.0)\n",
            "Requirement already satisfied: pydantic>=2.0 in /usr/local/lib/python3.10/dist-packages (from gradio) (2.8.2)\n",
            "Collecting pydub (from gradio)\n",
            "  Downloading pydub-0.25.1-py2.py3-none-any.whl.metadata (1.4 kB)\n",
            "Collecting python-multipart>=0.0.9 (from gradio)\n",
            "  Downloading python_multipart-0.0.9-py3-none-any.whl.metadata (2.5 kB)\n",
            "Requirement already satisfied: pyyaml<7.0,>=5.0 in /usr/local/lib/python3.10/dist-packages (from gradio) (6.0.2)\n",
            "Collecting ruff>=0.2.2 (from gradio)\n",
            "  Downloading ruff-0.6.1-py3-none-manylinux_2_17_x86_64.manylinux2014_x86_64.whl.metadata (25 kB)\n",
            "Collecting semantic-version~=2.0 (from gradio)\n",
            "  Downloading semantic_version-2.10.0-py2.py3-none-any.whl.metadata (9.7 kB)\n",
            "Collecting tomlkit==0.12.0 (from gradio)\n",
            "  Downloading tomlkit-0.12.0-py3-none-any.whl.metadata (2.7 kB)\n",
            "Requirement already satisfied: typer<1.0,>=0.12 in /usr/local/lib/python3.10/dist-packages (from gradio) (0.12.3)\n",
            "Requirement already satisfied: typing-extensions~=4.0 in /usr/local/lib/python3.10/dist-packages (from gradio) (4.12.2)\n",
            "Requirement already satisfied: urllib3~=2.0 in /usr/local/lib/python3.10/dist-packages (from gradio) (2.0.7)\n",
            "Collecting uvicorn>=0.14.0 (from gradio)\n",
            "  Downloading uvicorn-0.30.6-py3-none-any.whl.metadata (6.6 kB)\n",
            "Requirement already satisfied: fsspec in /usr/local/lib/python3.10/dist-packages (from gradio-client==1.3.0->gradio) (2024.6.1)\n",
            "Collecting websockets<13.0,>=10.0 (from gradio-client==1.3.0->gradio)\n",
            "  Downloading websockets-12.0-cp310-cp310-manylinux_2_5_x86_64.manylinux1_x86_64.manylinux_2_17_x86_64.manylinux2014_x86_64.whl.metadata (6.6 kB)\n",
            "Requirement already satisfied: idna>=2.8 in /usr/local/lib/python3.10/dist-packages (from anyio<5.0,>=3.0->gradio) (3.7)\n",
            "Requirement already satisfied: sniffio>=1.1 in /usr/local/lib/python3.10/dist-packages (from anyio<5.0,>=3.0->gradio) (1.3.1)\n",
            "Requirement already satisfied: exceptiongroup in /usr/local/lib/python3.10/dist-packages (from anyio<5.0,>=3.0->gradio) (1.2.2)\n",
            "Requirement already satisfied: certifi in /usr/local/lib/python3.10/dist-packages (from httpx>=0.24.1->gradio) (2024.7.4)\n",
            "Collecting httpcore==1.* (from httpx>=0.24.1->gradio)\n",
            "  Downloading httpcore-1.0.5-py3-none-any.whl.metadata (20 kB)\n",
            "Collecting h11<0.15,>=0.13 (from httpcore==1.*->httpx>=0.24.1->gradio)\n",
            "  Downloading h11-0.14.0-py3-none-any.whl.metadata (8.2 kB)\n",
            "Requirement already satisfied: filelock in /usr/local/lib/python3.10/dist-packages (from huggingface-hub>=0.19.3->gradio) (3.15.4)\n",
            "Requirement already satisfied: requests in /usr/local/lib/python3.10/dist-packages (from huggingface-hub>=0.19.3->gradio) (2.32.3)\n",
            "Requirement already satisfied: tqdm>=4.42.1 in /usr/local/lib/python3.10/dist-packages (from huggingface-hub>=0.19.3->gradio) (4.66.5)\n",
            "Requirement already satisfied: contourpy>=1.0.1 in /usr/local/lib/python3.10/dist-packages (from matplotlib~=3.0->gradio) (1.2.1)\n",
            "Requirement already satisfied: cycler>=0.10 in /usr/local/lib/python3.10/dist-packages (from matplotlib~=3.0->gradio) (0.12.1)\n",
            "Requirement already satisfied: fonttools>=4.22.0 in /usr/local/lib/python3.10/dist-packages (from matplotlib~=3.0->gradio) (4.53.1)\n",
            "Requirement already satisfied: kiwisolver>=1.0.1 in /usr/local/lib/python3.10/dist-packages (from matplotlib~=3.0->gradio) (1.4.5)\n",
            "Requirement already satisfied: pyparsing>=2.3.1 in /usr/local/lib/python3.10/dist-packages (from matplotlib~=3.0->gradio) (3.1.2)\n",
            "Requirement already satisfied: python-dateutil>=2.7 in /usr/local/lib/python3.10/dist-packages (from matplotlib~=3.0->gradio) (2.8.2)\n",
            "Requirement already satisfied: pytz>=2020.1 in /usr/local/lib/python3.10/dist-packages (from pandas<3.0,>=1.0->gradio) (2024.1)\n",
            "Requirement already satisfied: tzdata>=2022.1 in /usr/local/lib/python3.10/dist-packages (from pandas<3.0,>=1.0->gradio) (2024.1)\n",
            "Requirement already satisfied: annotated-types>=0.4.0 in /usr/local/lib/python3.10/dist-packages (from pydantic>=2.0->gradio) (0.7.0)\n",
            "Requirement already satisfied: pydantic-core==2.20.1 in /usr/local/lib/python3.10/dist-packages (from pydantic>=2.0->gradio) (2.20.1)\n",
            "Requirement already satisfied: click>=8.0.0 in /usr/local/lib/python3.10/dist-packages (from typer<1.0,>=0.12->gradio) (8.1.7)\n",
            "Requirement already satisfied: shellingham>=1.3.0 in /usr/local/lib/python3.10/dist-packages (from typer<1.0,>=0.12->gradio) (1.5.4)\n",
            "Requirement already satisfied: rich>=10.11.0 in /usr/local/lib/python3.10/dist-packages (from typer<1.0,>=0.12->gradio) (13.7.1)\n",
            "Collecting starlette<0.39.0,>=0.37.2 (from fastapi->gradio)\n",
            "  Downloading starlette-0.38.2-py3-none-any.whl.metadata (5.9 kB)\n",
            "Requirement already satisfied: six>=1.5 in /usr/local/lib/python3.10/dist-packages (from python-dateutil>=2.7->matplotlib~=3.0->gradio) (1.16.0)\n",
            "Requirement already satisfied: markdown-it-py>=2.2.0 in /usr/local/lib/python3.10/dist-packages (from rich>=10.11.0->typer<1.0,>=0.12->gradio) (3.0.0)\n",
            "Requirement already satisfied: pygments<3.0.0,>=2.13.0 in /usr/local/lib/python3.10/dist-packages (from rich>=10.11.0->typer<1.0,>=0.12->gradio) (2.16.1)\n",
            "Requirement already satisfied: charset-normalizer<4,>=2 in /usr/local/lib/python3.10/dist-packages (from requests->huggingface-hub>=0.19.3->gradio) (3.3.2)\n",
            "Requirement already satisfied: mdurl~=0.1 in /usr/local/lib/python3.10/dist-packages (from markdown-it-py>=2.2.0->rich>=10.11.0->typer<1.0,>=0.12->gradio) (0.1.2)\n",
            "Downloading gradio-4.42.0-py3-none-any.whl (16.8 MB)\n",
            "\u001b[2K   \u001b[90m━━━━━━━━━━━━━━━━━━━━━━━━━━━━━━━━━━━━━━━━\u001b[0m \u001b[32m16.8/16.8 MB\u001b[0m \u001b[31m21.3 MB/s\u001b[0m eta \u001b[36m0:00:00\u001b[0m\n",
            "\u001b[?25hDownloading gradio_client-1.3.0-py3-none-any.whl (318 kB)\n",
            "\u001b[2K   \u001b[90m━━━━━━━━━━━━━━━━━━━━━━━━━━━━━━━━━━━━━━━━\u001b[0m \u001b[32m318.7/318.7 kB\u001b[0m \u001b[31m14.6 MB/s\u001b[0m eta \u001b[36m0:00:00\u001b[0m\n",
            "\u001b[?25hDownloading tomlkit-0.12.0-py3-none-any.whl (37 kB)\n",
            "Downloading aiofiles-23.2.1-py3-none-any.whl (15 kB)\n",
            "Downloading httpx-0.27.0-py3-none-any.whl (75 kB)\n",
            "\u001b[2K   \u001b[90m━━━━━━━━━━━━━━━━━━━━━━━━━━━━━━━━━━━━━━━━\u001b[0m \u001b[32m75.6/75.6 kB\u001b[0m \u001b[31m4.2 MB/s\u001b[0m eta \u001b[36m0:00:00\u001b[0m\n",
            "\u001b[?25hDownloading httpcore-1.0.5-py3-none-any.whl (77 kB)\n",
            "\u001b[2K   \u001b[90m━━━━━━━━━━━━━━━━━━━━━━━━━━━━━━━━━━━━━━━━\u001b[0m \u001b[32m77.9/77.9 kB\u001b[0m \u001b[31m5.0 MB/s\u001b[0m eta \u001b[36m0:00:00\u001b[0m\n",
            "\u001b[?25hDownloading orjson-3.10.7-cp310-cp310-manylinux_2_17_x86_64.manylinux2014_x86_64.whl (141 kB)\n",
            "\u001b[2K   \u001b[90m━━━━━━━━━━━━━━━━━━━━━━━━━━━━━━━━━━━━━━━━\u001b[0m \u001b[32m141.9/141.9 kB\u001b[0m \u001b[31m7.1 MB/s\u001b[0m eta \u001b[36m0:00:00\u001b[0m\n",
            "\u001b[?25hDownloading python_multipart-0.0.9-py3-none-any.whl (22 kB)\n",
            "Downloading ruff-0.6.1-py3-none-manylinux_2_17_x86_64.manylinux2014_x86_64.whl (10.2 MB)\n",
            "\u001b[2K   \u001b[90m━━━━━━━━━━━━━━━━━━━━━━━━━━━━━━━━━━━━━━━━\u001b[0m \u001b[32m10.2/10.2 MB\u001b[0m \u001b[31m58.7 MB/s\u001b[0m eta \u001b[36m0:00:00\u001b[0m\n",
            "\u001b[?25hDownloading semantic_version-2.10.0-py2.py3-none-any.whl (15 kB)\n",
            "Downloading uvicorn-0.30.6-py3-none-any.whl (62 kB)\n",
            "\u001b[2K   \u001b[90m━━━━━━━━━━━━━━━━━━━━━━━━━━━━━━━━━━━━━━━━\u001b[0m \u001b[32m62.8/62.8 kB\u001b[0m \u001b[31m5.2 MB/s\u001b[0m eta \u001b[36m0:00:00\u001b[0m\n",
            "\u001b[?25hDownloading fastapi-0.112.1-py3-none-any.whl (93 kB)\n",
            "\u001b[2K   \u001b[90m━━━━━━━━━━━━━━━━━━━━━━━━━━━━━━━━━━━━━━━━\u001b[0m \u001b[32m93.2/93.2 kB\u001b[0m \u001b[31m5.5 MB/s\u001b[0m eta \u001b[36m0:00:00\u001b[0m\n",
            "\u001b[?25hDownloading ffmpy-0.4.0-py3-none-any.whl (5.8 kB)\n",
            "Downloading pydub-0.25.1-py2.py3-none-any.whl (32 kB)\n",
            "Downloading h11-0.14.0-py3-none-any.whl (58 kB)\n",
            "\u001b[2K   \u001b[90m━━━━━━━━━━━━━━━━━━━━━━━━━━━━━━━━━━━━━━━━\u001b[0m \u001b[32m58.3/58.3 kB\u001b[0m \u001b[31m4.3 MB/s\u001b[0m eta \u001b[36m0:00:00\u001b[0m\n",
            "\u001b[?25hDownloading starlette-0.38.2-py3-none-any.whl (72 kB)\n",
            "\u001b[2K   \u001b[90m━━━━━━━━━━━━━━━━━━━━━━━━━━━━━━━━━━━━━━━━\u001b[0m \u001b[32m72.0/72.0 kB\u001b[0m \u001b[31m5.3 MB/s\u001b[0m eta \u001b[36m0:00:00\u001b[0m\n",
            "\u001b[?25hDownloading websockets-12.0-cp310-cp310-manylinux_2_5_x86_64.manylinux1_x86_64.manylinux_2_17_x86_64.manylinux2014_x86_64.whl (130 kB)\n",
            "\u001b[2K   \u001b[90m━━━━━━━━━━━━━━━━━━━━━━━━━━━━━━━━━━━━━━━━\u001b[0m \u001b[32m130.2/130.2 kB\u001b[0m \u001b[31m9.1 MB/s\u001b[0m eta \u001b[36m0:00:00\u001b[0m\n",
            "\u001b[?25hInstalling collected packages: pydub, websockets, tomlkit, semantic-version, ruff, python-multipart, orjson, h11, ffmpy, aiofiles, uvicorn, starlette, httpcore, httpx, fastapi, gradio-client, gradio\n",
            "  Attempting uninstall: tomlkit\n",
            "    Found existing installation: tomlkit 0.13.2\n",
            "    Uninstalling tomlkit-0.13.2:\n",
            "      Successfully uninstalled tomlkit-0.13.2\n",
            "Successfully installed aiofiles-23.2.1 fastapi-0.112.1 ffmpy-0.4.0 gradio-4.42.0 gradio-client-1.3.0 h11-0.14.0 httpcore-1.0.5 httpx-0.27.0 orjson-3.10.7 pydub-0.25.1 python-multipart-0.0.9 ruff-0.6.1 semantic-version-2.10.0 starlette-0.38.2 tomlkit-0.12.0 uvicorn-0.30.6 websockets-12.0\n",
            "\u001b[31mERROR: Invalid requirement: 'gradio=3.43.1': Expected end or semicolon (after name and no valid version specifier)\n",
            "    gradio=3.43.1\n",
            "          ^\n",
            "Hint: = is not a valid operator. Did you mean == ?\u001b[0m\u001b[31m\n",
            "\u001b[0m"
          ]
        }
      ],
      "source": [
        "!pip install gradio\n",
        "!pip install gradio=3.43.1\n"
      ]
    },
    {
      "cell_type": "code",
      "source": [
        "#we got error because at the version we need =="
      ],
      "metadata": {
        "id": "aEGZZC2X21z3"
      },
      "execution_count": 2,
      "outputs": []
    },
    {
      "cell_type": "code",
      "source": [
        "!pip install gradio==3.43.1"
      ],
      "metadata": {
        "colab": {
          "base_uri": "https://localhost:8080/"
        },
        "id": "FPdsiBoH3OB9",
        "outputId": "44fc0665-c41a-4ef8-ae7b-007ab839e375"
      },
      "execution_count": 3,
      "outputs": [
        {
          "output_type": "stream",
          "name": "stdout",
          "text": [
            "Collecting gradio==3.43.1\n",
            "  Downloading gradio-3.43.1-py3-none-any.whl.metadata (17 kB)\n",
            "Requirement already satisfied: aiofiles<24.0,>=22.0 in /usr/local/lib/python3.10/dist-packages (from gradio==3.43.1) (23.2.1)\n",
            "Requirement already satisfied: altair<6.0,>=4.2.0 in /usr/local/lib/python3.10/dist-packages (from gradio==3.43.1) (4.2.2)\n",
            "Requirement already satisfied: fastapi in /usr/local/lib/python3.10/dist-packages (from gradio==3.43.1) (0.112.1)\n",
            "Requirement already satisfied: ffmpy in /usr/local/lib/python3.10/dist-packages (from gradio==3.43.1) (0.4.0)\n",
            "Collecting gradio-client==0.5.0 (from gradio==3.43.1)\n",
            "  Downloading gradio_client-0.5.0-py3-none-any.whl.metadata (7.1 kB)\n",
            "Requirement already satisfied: httpx in /usr/local/lib/python3.10/dist-packages (from gradio==3.43.1) (0.27.0)\n",
            "Requirement already satisfied: huggingface-hub>=0.14.0 in /usr/local/lib/python3.10/dist-packages (from gradio==3.43.1) (0.23.5)\n",
            "Requirement already satisfied: importlib-resources<7.0,>=1.3 in /usr/local/lib/python3.10/dist-packages (from gradio==3.43.1) (6.4.2)\n",
            "Requirement already satisfied: jinja2<4.0 in /usr/local/lib/python3.10/dist-packages (from gradio==3.43.1) (3.1.4)\n",
            "Requirement already satisfied: markupsafe~=2.0 in /usr/local/lib/python3.10/dist-packages (from gradio==3.43.1) (2.1.5)\n",
            "Requirement already satisfied: matplotlib~=3.0 in /usr/local/lib/python3.10/dist-packages (from gradio==3.43.1) (3.7.1)\n",
            "Requirement already satisfied: numpy~=1.0 in /usr/local/lib/python3.10/dist-packages (from gradio==3.43.1) (1.26.4)\n",
            "Requirement already satisfied: orjson~=3.0 in /usr/local/lib/python3.10/dist-packages (from gradio==3.43.1) (3.10.7)\n",
            "Requirement already satisfied: packaging in /usr/local/lib/python3.10/dist-packages (from gradio==3.43.1) (24.1)\n",
            "Requirement already satisfied: pandas<3.0,>=1.0 in /usr/local/lib/python3.10/dist-packages (from gradio==3.43.1) (2.1.4)\n",
            "Requirement already satisfied: pillow<11.0,>=8.0 in /usr/local/lib/python3.10/dist-packages (from gradio==3.43.1) (9.4.0)\n",
            "Requirement already satisfied: pydantic!=1.8,!=1.8.1,!=2.0.0,!=2.0.1,<3.0.0,>=1.7.4 in /usr/local/lib/python3.10/dist-packages (from gradio==3.43.1) (2.8.2)\n",
            "Requirement already satisfied: pydub in /usr/local/lib/python3.10/dist-packages (from gradio==3.43.1) (0.25.1)\n",
            "Requirement already satisfied: python-multipart in /usr/local/lib/python3.10/dist-packages (from gradio==3.43.1) (0.0.9)\n",
            "Requirement already satisfied: pyyaml<7.0,>=5.0 in /usr/local/lib/python3.10/dist-packages (from gradio==3.43.1) (6.0.2)\n",
            "Requirement already satisfied: requests~=2.0 in /usr/local/lib/python3.10/dist-packages (from gradio==3.43.1) (2.32.3)\n",
            "Requirement already satisfied: semantic-version~=2.0 in /usr/local/lib/python3.10/dist-packages (from gradio==3.43.1) (2.10.0)\n",
            "Requirement already satisfied: typing-extensions~=4.0 in /usr/local/lib/python3.10/dist-packages (from gradio==3.43.1) (4.12.2)\n",
            "Requirement already satisfied: uvicorn>=0.14.0 in /usr/local/lib/python3.10/dist-packages (from gradio==3.43.1) (0.30.6)\n",
            "Collecting websockets<12.0,>=10.0 (from gradio==3.43.1)\n",
            "  Downloading websockets-11.0.3-cp310-cp310-manylinux_2_5_x86_64.manylinux1_x86_64.manylinux_2_17_x86_64.manylinux2014_x86_64.whl.metadata (6.6 kB)\n",
            "Requirement already satisfied: fsspec in /usr/local/lib/python3.10/dist-packages (from gradio-client==0.5.0->gradio==3.43.1) (2024.6.1)\n",
            "Requirement already satisfied: entrypoints in /usr/local/lib/python3.10/dist-packages (from altair<6.0,>=4.2.0->gradio==3.43.1) (0.4)\n",
            "Requirement already satisfied: jsonschema>=3.0 in /usr/local/lib/python3.10/dist-packages (from altair<6.0,>=4.2.0->gradio==3.43.1) (4.23.0)\n",
            "Requirement already satisfied: toolz in /usr/local/lib/python3.10/dist-packages (from altair<6.0,>=4.2.0->gradio==3.43.1) (0.12.1)\n",
            "Requirement already satisfied: filelock in /usr/local/lib/python3.10/dist-packages (from huggingface-hub>=0.14.0->gradio==3.43.1) (3.15.4)\n",
            "Requirement already satisfied: tqdm>=4.42.1 in /usr/local/lib/python3.10/dist-packages (from huggingface-hub>=0.14.0->gradio==3.43.1) (4.66.5)\n",
            "Requirement already satisfied: contourpy>=1.0.1 in /usr/local/lib/python3.10/dist-packages (from matplotlib~=3.0->gradio==3.43.1) (1.2.1)\n",
            "Requirement already satisfied: cycler>=0.10 in /usr/local/lib/python3.10/dist-packages (from matplotlib~=3.0->gradio==3.43.1) (0.12.1)\n",
            "Requirement already satisfied: fonttools>=4.22.0 in /usr/local/lib/python3.10/dist-packages (from matplotlib~=3.0->gradio==3.43.1) (4.53.1)\n",
            "Requirement already satisfied: kiwisolver>=1.0.1 in /usr/local/lib/python3.10/dist-packages (from matplotlib~=3.0->gradio==3.43.1) (1.4.5)\n",
            "Requirement already satisfied: pyparsing>=2.3.1 in /usr/local/lib/python3.10/dist-packages (from matplotlib~=3.0->gradio==3.43.1) (3.1.2)\n",
            "Requirement already satisfied: python-dateutil>=2.7 in /usr/local/lib/python3.10/dist-packages (from matplotlib~=3.0->gradio==3.43.1) (2.8.2)\n",
            "Requirement already satisfied: pytz>=2020.1 in /usr/local/lib/python3.10/dist-packages (from pandas<3.0,>=1.0->gradio==3.43.1) (2024.1)\n",
            "Requirement already satisfied: tzdata>=2022.1 in /usr/local/lib/python3.10/dist-packages (from pandas<3.0,>=1.0->gradio==3.43.1) (2024.1)\n",
            "Requirement already satisfied: annotated-types>=0.4.0 in /usr/local/lib/python3.10/dist-packages (from pydantic!=1.8,!=1.8.1,!=2.0.0,!=2.0.1,<3.0.0,>=1.7.4->gradio==3.43.1) (0.7.0)\n",
            "Requirement already satisfied: pydantic-core==2.20.1 in /usr/local/lib/python3.10/dist-packages (from pydantic!=1.8,!=1.8.1,!=2.0.0,!=2.0.1,<3.0.0,>=1.7.4->gradio==3.43.1) (2.20.1)\n",
            "Requirement already satisfied: charset-normalizer<4,>=2 in /usr/local/lib/python3.10/dist-packages (from requests~=2.0->gradio==3.43.1) (3.3.2)\n",
            "Requirement already satisfied: idna<4,>=2.5 in /usr/local/lib/python3.10/dist-packages (from requests~=2.0->gradio==3.43.1) (3.7)\n",
            "Requirement already satisfied: urllib3<3,>=1.21.1 in /usr/local/lib/python3.10/dist-packages (from requests~=2.0->gradio==3.43.1) (2.0.7)\n",
            "Requirement already satisfied: certifi>=2017.4.17 in /usr/local/lib/python3.10/dist-packages (from requests~=2.0->gradio==3.43.1) (2024.7.4)\n",
            "Requirement already satisfied: click>=7.0 in /usr/local/lib/python3.10/dist-packages (from uvicorn>=0.14.0->gradio==3.43.1) (8.1.7)\n",
            "Requirement already satisfied: h11>=0.8 in /usr/local/lib/python3.10/dist-packages (from uvicorn>=0.14.0->gradio==3.43.1) (0.14.0)\n",
            "Requirement already satisfied: starlette<0.39.0,>=0.37.2 in /usr/local/lib/python3.10/dist-packages (from fastapi->gradio==3.43.1) (0.38.2)\n",
            "Requirement already satisfied: anyio in /usr/local/lib/python3.10/dist-packages (from httpx->gradio==3.43.1) (3.7.1)\n",
            "Requirement already satisfied: httpcore==1.* in /usr/local/lib/python3.10/dist-packages (from httpx->gradio==3.43.1) (1.0.5)\n",
            "Requirement already satisfied: sniffio in /usr/local/lib/python3.10/dist-packages (from httpx->gradio==3.43.1) (1.3.1)\n",
            "Requirement already satisfied: attrs>=22.2.0 in /usr/local/lib/python3.10/dist-packages (from jsonschema>=3.0->altair<6.0,>=4.2.0->gradio==3.43.1) (24.2.0)\n",
            "Requirement already satisfied: jsonschema-specifications>=2023.03.6 in /usr/local/lib/python3.10/dist-packages (from jsonschema>=3.0->altair<6.0,>=4.2.0->gradio==3.43.1) (2023.12.1)\n",
            "Requirement already satisfied: referencing>=0.28.4 in /usr/local/lib/python3.10/dist-packages (from jsonschema>=3.0->altair<6.0,>=4.2.0->gradio==3.43.1) (0.35.1)\n",
            "Requirement already satisfied: rpds-py>=0.7.1 in /usr/local/lib/python3.10/dist-packages (from jsonschema>=3.0->altair<6.0,>=4.2.0->gradio==3.43.1) (0.20.0)\n",
            "Requirement already satisfied: six>=1.5 in /usr/local/lib/python3.10/dist-packages (from python-dateutil>=2.7->matplotlib~=3.0->gradio==3.43.1) (1.16.0)\n",
            "Requirement already satisfied: exceptiongroup in /usr/local/lib/python3.10/dist-packages (from anyio->httpx->gradio==3.43.1) (1.2.2)\n",
            "Downloading gradio-3.43.1-py3-none-any.whl (20.1 MB)\n",
            "\u001b[2K   \u001b[90m━━━━━━━━━━━━━━━━━━━━━━━━━━━━━━━━━━━━━━━━\u001b[0m \u001b[32m20.1/20.1 MB\u001b[0m \u001b[31m21.3 MB/s\u001b[0m eta \u001b[36m0:00:00\u001b[0m\n",
            "\u001b[?25hDownloading gradio_client-0.5.0-py3-none-any.whl (298 kB)\n",
            "\u001b[2K   \u001b[90m━━━━━━━━━━━━━━━━━━━━━━━━━━━━━━━━━━━━━━━━\u001b[0m \u001b[32m298.2/298.2 kB\u001b[0m \u001b[31m10.0 MB/s\u001b[0m eta \u001b[36m0:00:00\u001b[0m\n",
            "\u001b[?25hDownloading websockets-11.0.3-cp310-cp310-manylinux_2_5_x86_64.manylinux1_x86_64.manylinux_2_17_x86_64.manylinux2014_x86_64.whl (129 kB)\n",
            "\u001b[2K   \u001b[90m━━━━━━━━━━━━━━━━━━━━━━━━━━━━━━━━━━━━━━━━\u001b[0m \u001b[32m129.9/129.9 kB\u001b[0m \u001b[31m6.0 MB/s\u001b[0m eta \u001b[36m0:00:00\u001b[0m\n",
            "\u001b[?25hInstalling collected packages: websockets, gradio-client, gradio\n",
            "  Attempting uninstall: websockets\n",
            "    Found existing installation: websockets 12.0\n",
            "    Uninstalling websockets-12.0:\n",
            "      Successfully uninstalled websockets-12.0\n",
            "  Attempting uninstall: gradio-client\n",
            "    Found existing installation: gradio_client 1.3.0\n",
            "    Uninstalling gradio_client-1.3.0:\n",
            "      Successfully uninstalled gradio_client-1.3.0\n",
            "  Attempting uninstall: gradio\n",
            "    Found existing installation: gradio 4.42.0\n",
            "    Uninstalling gradio-4.42.0:\n",
            "      Successfully uninstalled gradio-4.42.0\n",
            "Successfully installed gradio-3.43.1 gradio-client-0.5.0 websockets-11.0.3\n"
          ]
        }
      ]
    },
    {
      "cell_type": "code",
      "source": [
        "import pandas as pd\n",
        "import numpy as np\n",
        "from sklearn.linear_model import LinearRegression\n",
        "from sklearn.metrics import accuracy_score\n",
        "\n",
        "#load the dataset to pandas dataframe\n",
        "URL = \"http://bit.ly/w-data\"\n",
        "student_data = pd.read_csv(URL)\n",
        "\n",
        "#Prepare data\n",
        "X = student_data.copy()\n",
        "y = student_data['Scores']\n",
        "del X['Scores']\n",
        "\n",
        "#create a machine learning model and train it\n",
        "lineareg = LinearRegression()\n",
        "lineareg.fit(X,y)\n",
        "print('Accuracy score : ',lineareg.score(X,y),'\\n')\n",
        "\n",
        "#now the model has been trained well let test it"
      ],
      "metadata": {
        "colab": {
          "base_uri": "https://localhost:8080/"
        },
        "id": "UWpeq4ga3PoX",
        "outputId": "fcdb861d-0a1c-4da9-9106-e20a17fa2c47"
      },
      "execution_count": 4,
      "outputs": [
        {
          "output_type": "stream",
          "name": "stdout",
          "text": [
            "Accuracy score :  0.9529481969048356 \n",
            "\n"
          ]
        }
      ]
    },
    {
      "cell_type": "code",
      "source": [
        "import gradio as gr"
      ],
      "metadata": {
        "id": "T7-6UI_A4Fhi"
      },
      "execution_count": 5,
      "outputs": []
    },
    {
      "cell_type": "code",
      "source": [
        "#function to predict the input hours\n",
        "def predict_score(hours):\n",
        "    hours = np.array(hours) #process input\n",
        "    pred_score = lineareg.predict(hours.reshape(-1,1)) #prediction\n",
        "    return np.round(pred_score[0], 2)\n",
        "\n",
        "\n",
        "input = gr.inputs.Number(label='Number of Hours studied')\n",
        "\n",
        "output = gr.outputs.Textbox(label='Predicted Score')\n",
        "\n",
        "gr.Interface( predict_score,\n",
        "              input,\n",
        "              output,live=True).launch(share=True);"
      ],
      "metadata": {
        "colab": {
          "base_uri": "https://localhost:8080/",
          "height": 730
        },
        "id": "ZSACPbXQ3VaT",
        "outputId": "e8dd9704-1876-4236-d645-59fd5bee887d"
      },
      "execution_count": 6,
      "outputs": [
        {
          "output_type": "stream",
          "name": "stderr",
          "text": [
            "<ipython-input-6-ca21bee5dc53>:8: GradioDeprecationWarning: Usage of gradio.inputs is deprecated, and will not be supported in the future, please import your component from gradio.components\n",
            "  input = gr.inputs.Number(label='Number of Hours studied')\n",
            "<ipython-input-6-ca21bee5dc53>:8: GradioDeprecationWarning: `optional` parameter is deprecated, and it has no effect\n",
            "  input = gr.inputs.Number(label='Number of Hours studied')\n",
            "<ipython-input-6-ca21bee5dc53>:10: GradioDeprecationWarning: Usage of gradio.outputs is deprecated, and will not be supported in the future, please import your components from gradio.components\n",
            "  output = gr.outputs.Textbox(label='Predicted Score')\n"
          ]
        },
        {
          "output_type": "stream",
          "name": "stdout",
          "text": [
            "Colab notebook detected. To show errors in colab notebook, set debug=True in launch()\n",
            "IMPORTANT: You are using gradio version 3.43.1, however version 4.29.0 is available, please upgrade.\n",
            "--------\n",
            "Running on public URL: https://d44cb7cde64feeaaa8.gradio.live\n",
            "\n",
            "This share link expires in 72 hours. For free permanent hosting and GPU upgrades, run `gradio deploy` from Terminal to deploy to Spaces (https://huggingface.co/spaces)\n"
          ]
        },
        {
          "output_type": "display_data",
          "data": {
            "text/plain": [
              "<IPython.core.display.HTML object>"
            ],
            "text/html": [
              "<div><iframe src=\"https://d44cb7cde64feeaaa8.gradio.live\" width=\"100%\" height=\"500\" allow=\"autoplay; camera; microphone; clipboard-read; clipboard-write;\" frameborder=\"0\" allowfullscreen></iframe></div>"
            ]
          },
          "metadata": {}
        }
      ]
    },
    {
      "cell_type": "code",
      "source": [
        "#can edit with the range number and more"
      ],
      "metadata": {
        "id": "snIULdAD4AXj"
      },
      "execution_count": 7,
      "outputs": []
    },
    {
      "cell_type": "markdown",
      "source": [
        "Gradio Output"
      ],
      "metadata": {
        "id": "igOnVvd00_pz"
      }
    },
    {
      "cell_type": "markdown",
      "source": [
        "![image.png](data:image/png;base64,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)"
      ],
      "metadata": {
        "id": "h014y9UI1ChD"
      }
    }
  ]
}